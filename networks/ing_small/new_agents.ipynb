{
 "cells": [
  {
   "cell_type": "code",
   "execution_count": 1,
   "id": "969b64f6",
   "metadata": {},
   "outputs": [],
   "source": [
    "import pandas as pd\n",
    "import ast\n",
    "import json\n",
    "import random"
   ]
  },
  {
   "cell_type": "code",
   "execution_count": 3,
   "id": "de19052a",
   "metadata": {},
   "outputs": [
    {
     "name": "stdout",
     "output_type": "stream",
     "text": [
      "1035\n",
      "491\n"
     ]
    }
   ],
   "source": [
    "agents = pd.read_csv('agents.csv')\n",
    "\n",
    "print(len(agents))\n",
    "# Take start time max 9000\n",
    "agents = agents[agents['start_time'] <= 900]\n",
    "print(len(agents))"
   ]
  },
  {
   "cell_type": "code",
   "execution_count": 7,
   "id": "e9b99c97",
   "metadata": {},
   "outputs": [],
   "source": [
    "od_file_path = f\"od_ingolstadt_custom.txt\"\n",
    "with open(od_file_path, 'r', encoding='utf-8') as f:\n",
    "    content = f.read()\n",
    "data = ast.literal_eval(content)\n",
    "origins = data['origins'][:5]\n",
    "destinations = data['destinations'][:4]\n",
    "od_dict = {\n",
    "    \"origins\": origins,\n",
    "    \"destinations\": destinations\n",
    "}\n",
    "json_filepath = 'od_ing_small.json'\n",
    "with open(json_filepath, 'w', encoding='utf-8') as json_file:\n",
    "    json.dump(od_dict, json_file)"
   ]
  },
  {
   "cell_type": "code",
   "execution_count": 8,
   "id": "e2d8de12",
   "metadata": {},
   "outputs": [],
   "source": [
    "origin_indices = [i for i, origin in enumerate(origins)]\n",
    "destination_indices = [i for i, destination in enumerate(destinations)]\n",
    "possible_od_pairs = [(orig, dest) for orig in origin_indices for dest in destination_indices]\n",
    "counters = {od_pair: 0 for od_pair in possible_od_pairs}\n",
    "\n",
    "for index, row in agents.iterrows():\n",
    "    agent_od = random.choice(possible_od_pairs)\n",
    "    agents.at[index, 'origin'] = agent_od[0]\n",
    "    agents.at[index, 'destination'] = agent_od[1]\n",
    "    counters[agent_od] += 1\n",
    "    \n",
    "    "
   ]
  },
  {
   "cell_type": "code",
   "execution_count": 9,
   "id": "3c5a472a",
   "metadata": {},
   "outputs": [],
   "source": [
    "agents.to_csv('agents_updated.csv', index=False)"
   ]
  },
  {
   "cell_type": "code",
   "execution_count": 10,
   "id": "f021ac5f",
   "metadata": {},
   "outputs": [
    {
     "data": {
      "text/plain": [
       "{(0, 0): 27,\n",
       " (0, 1): 29,\n",
       " (0, 2): 20,\n",
       " (0, 3): 23,\n",
       " (1, 0): 30,\n",
       " (1, 1): 21,\n",
       " (1, 2): 25,\n",
       " (1, 3): 21,\n",
       " (2, 0): 19,\n",
       " (2, 1): 20,\n",
       " (2, 2): 34,\n",
       " (2, 3): 34,\n",
       " (3, 0): 27,\n",
       " (3, 1): 22,\n",
       " (3, 2): 23,\n",
       " (3, 3): 23,\n",
       " (4, 0): 30,\n",
       " (4, 1): 13,\n",
       " (4, 2): 18,\n",
       " (4, 3): 32}"
      ]
     },
     "execution_count": 10,
     "metadata": {},
     "output_type": "execute_result"
    }
   ],
   "source": [
    "counters"
   ]
  },
  {
   "cell_type": "code",
   "execution_count": 11,
   "id": "6a8a9d91",
   "metadata": {},
   "outputs": [
    {
     "name": "stdout",
     "output_type": "stream",
     "text": [
      "900\n"
     ]
    }
   ],
   "source": [
    "print(max(agents[\"start_time\"]))"
   ]
  }
 ],
 "metadata": {
  "kernelspec": {
   "display_name": "venv",
   "language": "python",
   "name": "python3"
  },
  "language_info": {
   "codemirror_mode": {
    "name": "ipython",
    "version": 3
   },
   "file_extension": ".py",
   "mimetype": "text/x-python",
   "name": "python",
   "nbconvert_exporter": "python",
   "pygments_lexer": "ipython3",
   "version": "3.9.6"
  }
 },
 "nbformat": 4,
 "nbformat_minor": 5
}
